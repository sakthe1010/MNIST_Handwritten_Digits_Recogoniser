{
  "nbformat": 4,
  "nbformat_minor": 0,
  "metadata": {
    "colab": {
      "provenance": []
    },
    "kernelspec": {
      "name": "python3",
      "display_name": "Python 3"
    },
    "language_info": {
      "name": "python"
    }
  },
  "cells": [
    {
      "cell_type": "code",
      "execution_count": 22,
      "metadata": {
        "id": "eEDkptfKdg2l"
      },
      "outputs": [],
      "source": [
        "import numpy as np\n",
        "import matplotlib.pyplot as plt\n",
        "import keras\n",
        "from keras.models import Sequential\n",
        "from keras.layers import Dense, Dropout\n",
        "from keras.utils import np_utils\n",
        "from sklearn.metrics import confusion_matrix"
      ]
    },
    {
      "cell_type": "code",
      "source": [
        "from keras.datasets import mnist\n",
        "(x,y), (X,Y) = mnist.load_data()"
      ],
      "metadata": {
        "id": "z2VUC8fmo6ME"
      },
      "execution_count": 23,
      "outputs": []
    },
    {
      "cell_type": "code",
      "source": [
        "print(x.shape,y.shape)\n",
        "print(X.shape,Y.shape)"
      ],
      "metadata": {
        "colab": {
          "base_uri": "https://localhost:8080/"
        },
        "id": "qZxDj73Fo6bV",
        "outputId": "4d393ae8-7385-4b4e-cae7-14153e2881aa"
      },
      "execution_count": 24,
      "outputs": [
        {
          "output_type": "stream",
          "name": "stdout",
          "text": [
            "(60000, 28, 28) (60000,)\n",
            "(10000, 28, 28) (10000,)\n"
          ]
        }
      ]
    },
    {
      "cell_type": "code",
      "source": [
        "x[0]"
      ],
      "metadata": {
        "colab": {
          "base_uri": "https://localhost:8080/"
        },
        "id": "GG56G_Gro6d3",
        "outputId": "a80ab302-200e-442d-9c22-4a235f98b40a"
      },
      "execution_count": 25,
      "outputs": [
        {
          "output_type": "execute_result",
          "data": {
            "text/plain": [
              "array([[  0,   0,   0,   0,   0,   0,   0,   0,   0,   0,   0,   0,   0,\n",
              "          0,   0,   0,   0,   0,   0,   0,   0,   0,   0,   0,   0,   0,\n",
              "          0,   0],\n",
              "       [  0,   0,   0,   0,   0,   0,   0,   0,   0,   0,   0,   0,   0,\n",
              "          0,   0,   0,   0,   0,   0,   0,   0,   0,   0,   0,   0,   0,\n",
              "          0,   0],\n",
              "       [  0,   0,   0,   0,   0,   0,   0,   0,   0,   0,   0,   0,   0,\n",
              "          0,   0,   0,   0,   0,   0,   0,   0,   0,   0,   0,   0,   0,\n",
              "          0,   0],\n",
              "       [  0,   0,   0,   0,   0,   0,   0,   0,   0,   0,   0,   0,   0,\n",
              "          0,   0,   0,   0,   0,   0,   0,   0,   0,   0,   0,   0,   0,\n",
              "          0,   0],\n",
              "       [  0,   0,   0,   0,   0,   0,   0,   0,   0,   0,   0,   0,   0,\n",
              "          0,   0,   0,   0,   0,   0,   0,   0,   0,   0,   0,   0,   0,\n",
              "          0,   0],\n",
              "       [  0,   0,   0,   0,   0,   0,   0,   0,   0,   0,   0,   0,   3,\n",
              "         18,  18,  18, 126, 136, 175,  26, 166, 255, 247, 127,   0,   0,\n",
              "          0,   0],\n",
              "       [  0,   0,   0,   0,   0,   0,   0,   0,  30,  36,  94, 154, 170,\n",
              "        253, 253, 253, 253, 253, 225, 172, 253, 242, 195,  64,   0,   0,\n",
              "          0,   0],\n",
              "       [  0,   0,   0,   0,   0,   0,   0,  49, 238, 253, 253, 253, 253,\n",
              "        253, 253, 253, 253, 251,  93,  82,  82,  56,  39,   0,   0,   0,\n",
              "          0,   0],\n",
              "       [  0,   0,   0,   0,   0,   0,   0,  18, 219, 253, 253, 253, 253,\n",
              "        253, 198, 182, 247, 241,   0,   0,   0,   0,   0,   0,   0,   0,\n",
              "          0,   0],\n",
              "       [  0,   0,   0,   0,   0,   0,   0,   0,  80, 156, 107, 253, 253,\n",
              "        205,  11,   0,  43, 154,   0,   0,   0,   0,   0,   0,   0,   0,\n",
              "          0,   0],\n",
              "       [  0,   0,   0,   0,   0,   0,   0,   0,   0,  14,   1, 154, 253,\n",
              "         90,   0,   0,   0,   0,   0,   0,   0,   0,   0,   0,   0,   0,\n",
              "          0,   0],\n",
              "       [  0,   0,   0,   0,   0,   0,   0,   0,   0,   0,   0, 139, 253,\n",
              "        190,   2,   0,   0,   0,   0,   0,   0,   0,   0,   0,   0,   0,\n",
              "          0,   0],\n",
              "       [  0,   0,   0,   0,   0,   0,   0,   0,   0,   0,   0,  11, 190,\n",
              "        253,  70,   0,   0,   0,   0,   0,   0,   0,   0,   0,   0,   0,\n",
              "          0,   0],\n",
              "       [  0,   0,   0,   0,   0,   0,   0,   0,   0,   0,   0,   0,  35,\n",
              "        241, 225, 160, 108,   1,   0,   0,   0,   0,   0,   0,   0,   0,\n",
              "          0,   0],\n",
              "       [  0,   0,   0,   0,   0,   0,   0,   0,   0,   0,   0,   0,   0,\n",
              "         81, 240, 253, 253, 119,  25,   0,   0,   0,   0,   0,   0,   0,\n",
              "          0,   0],\n",
              "       [  0,   0,   0,   0,   0,   0,   0,   0,   0,   0,   0,   0,   0,\n",
              "          0,  45, 186, 253, 253, 150,  27,   0,   0,   0,   0,   0,   0,\n",
              "          0,   0],\n",
              "       [  0,   0,   0,   0,   0,   0,   0,   0,   0,   0,   0,   0,   0,\n",
              "          0,   0,  16,  93, 252, 253, 187,   0,   0,   0,   0,   0,   0,\n",
              "          0,   0],\n",
              "       [  0,   0,   0,   0,   0,   0,   0,   0,   0,   0,   0,   0,   0,\n",
              "          0,   0,   0,   0, 249, 253, 249,  64,   0,   0,   0,   0,   0,\n",
              "          0,   0],\n",
              "       [  0,   0,   0,   0,   0,   0,   0,   0,   0,   0,   0,   0,   0,\n",
              "          0,  46, 130, 183, 253, 253, 207,   2,   0,   0,   0,   0,   0,\n",
              "          0,   0],\n",
              "       [  0,   0,   0,   0,   0,   0,   0,   0,   0,   0,   0,   0,  39,\n",
              "        148, 229, 253, 253, 253, 250, 182,   0,   0,   0,   0,   0,   0,\n",
              "          0,   0],\n",
              "       [  0,   0,   0,   0,   0,   0,   0,   0,   0,   0,  24, 114, 221,\n",
              "        253, 253, 253, 253, 201,  78,   0,   0,   0,   0,   0,   0,   0,\n",
              "          0,   0],\n",
              "       [  0,   0,   0,   0,   0,   0,   0,   0,  23,  66, 213, 253, 253,\n",
              "        253, 253, 198,  81,   2,   0,   0,   0,   0,   0,   0,   0,   0,\n",
              "          0,   0],\n",
              "       [  0,   0,   0,   0,   0,   0,  18, 171, 219, 253, 253, 253, 253,\n",
              "        195,  80,   9,   0,   0,   0,   0,   0,   0,   0,   0,   0,   0,\n",
              "          0,   0],\n",
              "       [  0,   0,   0,   0,  55, 172, 226, 253, 253, 253, 253, 244, 133,\n",
              "         11,   0,   0,   0,   0,   0,   0,   0,   0,   0,   0,   0,   0,\n",
              "          0,   0],\n",
              "       [  0,   0,   0,   0, 136, 253, 253, 253, 212, 135, 132,  16,   0,\n",
              "          0,   0,   0,   0,   0,   0,   0,   0,   0,   0,   0,   0,   0,\n",
              "          0,   0],\n",
              "       [  0,   0,   0,   0,   0,   0,   0,   0,   0,   0,   0,   0,   0,\n",
              "          0,   0,   0,   0,   0,   0,   0,   0,   0,   0,   0,   0,   0,\n",
              "          0,   0],\n",
              "       [  0,   0,   0,   0,   0,   0,   0,   0,   0,   0,   0,   0,   0,\n",
              "          0,   0,   0,   0,   0,   0,   0,   0,   0,   0,   0,   0,   0,\n",
              "          0,   0],\n",
              "       [  0,   0,   0,   0,   0,   0,   0,   0,   0,   0,   0,   0,   0,\n",
              "          0,   0,   0,   0,   0,   0,   0,   0,   0,   0,   0,   0,   0,\n",
              "          0,   0]], dtype=uint8)"
            ]
          },
          "metadata": {},
          "execution_count": 25
        }
      ]
    },
    {
      "cell_type": "code",
      "source": [
        "random_nr = np.random.randint(0, 60000)"
      ],
      "metadata": {
        "id": "bwOMZuTgo6gJ"
      },
      "execution_count": 26,
      "outputs": []
    },
    {
      "cell_type": "code",
      "source": [
        "plt.imshow(x[random_nr], cmap=\"gray\");"
      ],
      "metadata": {
        "colab": {
          "base_uri": "https://localhost:8080/",
          "height": 430
        },
        "id": "vAlGWCYYo6iL",
        "outputId": "70bdf0d5-5a7d-4584-a69a-275ee638de4c"
      },
      "execution_count": 27,
      "outputs": [
        {
          "output_type": "display_data",
          "data": {
            "text/plain": [
              "<Figure size 640x480 with 1 Axes>"
            ],
            "image/png": "[encoded data removed]"
          },
          "metadata": {}
        }
      ]
    },
    {
      "cell_type": "code",
      "source": [
        "num_classes = 10\n",
        "fig, ax = plt.subplots(1, num_classes, figsize=(20,20))\n",
        "for i in range(num_classes):\n",
        "  sample = x[y == i][0]\n",
        "  ax[i].imshow(sample, cmap=\"gray\")\n",
        "  ax[i].set_title(f\"Label:{i}\")"
      ],
      "metadata": {
        "colab": {
          "base_uri": "https://localhost:8080/",
          "height": 214
        },
        "id": "Rd393O5Ao6kH",
        "outputId": "ae320c93-a3de-4bdd-c677-32604a3e1f5a"
      },
      "execution_count": 28,
      "outputs": [
        {
          "output_type": "display_data",
          "data": {
            "text/plain": [
              "<Figure size 2000x2000 with 10 Axes>"
            ],
            "image/png": "[encoded data removed]"
          },
          "metadata": {}
        }
      ]
    },
    {
      "cell_type": "code",
      "source": [
        "y = keras.utils.np_utils.to_categorical(y, num_classes)\n",
        "Y = keras.utils.np_utils.to_categorical(Y, num_classes)"
      ],
      "metadata": {
        "id": "Wqg5eXOfpOR6"
      },
      "execution_count": 29,
      "outputs": []
    },
    {
      "cell_type": "code",
      "source": [
        "for i in range(10):\n",
        "  print(y[i])"
      ],
      "metadata": {
        "colab": {
          "base_uri": "https://localhost:8080/"
        },
        "id": "B0oFapExpOUC",
        "outputId": "81b8da6d-5c49-4faa-ed66-d5d59662ea0d"
      },
      "execution_count": 30,
      "outputs": [
        {
          "output_type": "stream",
          "name": "stdout",
          "text": [
            "[0. 0. 0. 0. 0. 1. 0. 0. 0. 0.]\n",
            "[1. 0. 0. 0. 0. 0. 0. 0. 0. 0.]\n",
            "[0. 0. 0. 0. 1. 0. 0. 0. 0. 0.]\n",
            "[0. 1. 0. 0. 0. 0. 0. 0. 0. 0.]\n",
            "[0. 0. 0. 0. 0. 0. 0. 0. 0. 1.]\n",
            "[0. 0. 1. 0. 0. 0. 0. 0. 0. 0.]\n",
            "[0. 1. 0. 0. 0. 0. 0. 0. 0. 0.]\n",
            "[0. 0. 0. 1. 0. 0. 0. 0. 0. 0.]\n",
            "[0. 1. 0. 0. 0. 0. 0. 0. 0. 0.]\n",
            "[0. 0. 0. 0. 1. 0. 0. 0. 0. 0.]\n"
          ]
        }
      ]
    },
    {
      "cell_type": "code",
      "source": [
        "x = x/255.0\n",
        "X = X/255.0"
      ],
      "metadata": {
        "id": "MSQWqw7ZpOV9"
      },
      "execution_count": 31,
      "outputs": []
    },
    {
      "cell_type": "code",
      "source": [
        "x.shape"
      ],
      "metadata": {
        "colab": {
          "base_uri": "https://localhost:8080/"
        },
        "id": "EKTdwszopOX4",
        "outputId": "8009c3c7-36cc-4a6d-b31b-ba1ef2d085ae"
      },
      "execution_count": 32,
      "outputs": [
        {
          "output_type": "execute_result",
          "data": {
            "text/plain": [
              "(60000, 28, 28)"
            ]
          },
          "metadata": {},
          "execution_count": 32
        }
      ]
    },
    {
      "cell_type": "code",
      "source": [
        "x = x.reshape(x.shape[0], -1)\n",
        "X = X.reshape(X.shape[0], -1)"
      ],
      "metadata": {
        "id": "xOA2SV8XpOaN"
      },
      "execution_count": 33,
      "outputs": []
    },
    {
      "cell_type": "code",
      "source": [
        "x.shape"
      ],
      "metadata": {
        "colab": {
          "base_uri": "https://localhost:8080/"
        },
        "id": "g_Wc6ejIpObx",
        "outputId": "b375c434-b825-484d-cb7d-63e7d6af46e7"
      },
      "execution_count": 34,
      "outputs": [
        {
          "output_type": "execute_result",
          "data": {
            "text/plain": [
              "(60000, 784)"
            ]
          },
          "metadata": {},
          "execution_count": 34
        }
      ]
    },
    {
      "cell_type": "code",
      "source": [
        "model = Sequential()\n",
        "\n",
        "model.add(Dense(units=128, input_shape=(784, ), activation=\"relu\"))\n",
        "model.add(Dense(units=128, activation=\"relu\"))\n",
        "model.add(Dropout(0.25))\n",
        "model.add(Dense(units=10, activation=\"softmax\"))\n",
        "\n",
        "model.compile(loss=\"categorical_crossentropy\", optimizer=\"adam\", metrics=\"accuracy\")\n",
        "model.summary()"
      ],
      "metadata": {
        "colab": {
          "base_uri": "https://localhost:8080/"
        },
        "id": "JQZbAu5UpOel",
        "outputId": "e1e2f4cf-2c4f-42c4-b319-e77a2eb993b0"
      },
      "execution_count": 35,
      "outputs": [
        {
          "output_type": "stream",
          "name": "stdout",
          "text": [
            "Model: \"sequential_1\"\n",
            "_________________________________________________________________\n",
            " Layer (type)                Output Shape              Param #   \n",
            "=================================================================\n",
            " dense_3 (Dense)             (None, 128)               100480    \n",
            "                                                                 \n",
            " dense_4 (Dense)             (None, 128)               16512     \n",
            "                                                                 \n",
            " dropout_1 (Dropout)         (None, 128)               0         \n",
            "                                                                 \n",
            " dense_5 (Dense)             (None, 10)                1290      \n",
            "                                                                 \n",
            "=================================================================\n",
            "Total params: 118,282\n",
            "Trainable params: 118,282\n",
            "Non-trainable params: 0\n",
            "_________________________________________________________________\n"
          ]
        }
      ]
    },
    {
      "cell_type": "code",
      "source": [
        "BATCH_SIZE = 512\n",
        "epochs = 11\n",
        "model.fit(x=x, y=y, batch_size = BATCH_SIZE, epochs = epochs )"
      ],
      "metadata": {
        "colab": {
          "base_uri": "https://localhost:8080/"
        },
        "id": "C001Zj2uo6l8",
        "outputId": "7176710c-ac14-4b39-fbc0-5e656e5e83c3"
      },
      "execution_count": 36,
      "outputs": [
        {
          "output_type": "stream",
          "name": "stdout",
          "text": [
            "Epoch 1/11\n",
            "118/118 [==============================] - 2s 12ms/step - loss: 0.5756 - accuracy: 0.8335\n",
            "Epoch 2/11\n",
            "118/118 [==============================] - 1s 11ms/step - loss: 0.2195 - accuracy: 0.9360\n",
            "Epoch 3/11\n",
            "118/118 [==============================] - 2s 18ms/step - loss: 0.1616 - accuracy: 0.9526\n",
            "Epoch 4/11\n",
            "118/118 [==============================] - 2s 15ms/step - loss: 0.1274 - accuracy: 0.9623\n",
            "Epoch 5/11\n",
            "118/118 [==============================] - 1s 12ms/step - loss: 0.1073 - accuracy: 0.9684\n",
            "Epoch 6/11\n",
            "118/118 [==============================] - 1s 12ms/step - loss: 0.0909 - accuracy: 0.9726\n",
            "Epoch 7/11\n",
            "118/118 [==============================] - 1s 11ms/step - loss: 0.0770 - accuracy: 0.9774\n",
            "Epoch 8/11\n",
            "118/118 [==============================] - 1s 11ms/step - loss: 0.0677 - accuracy: 0.9801\n",
            "Epoch 9/11\n",
            "118/118 [==============================] - 1s 11ms/step - loss: 0.0590 - accuracy: 0.9820\n",
            "Epoch 10/11\n",
            "118/118 [==============================] - 1s 11ms/step - loss: 0.0532 - accuracy: 0.9837\n",
            "Epoch 11/11\n",
            "118/118 [==============================] - 1s 12ms/step - loss: 0.0473 - accuracy: 0.9858\n"
          ]
        },
        {
          "output_type": "execute_result",
          "data": {
            "text/plain": [
              "<keras.callbacks.History at 0x7f59a9017af0>"
            ]
          },
          "metadata": {},
          "execution_count": 36
        }
      ]
    },
    {
      "cell_type": "code",
      "source": [
        "train_loss, train_accuracy = model.evaluate(x, y)\n",
        "test_loss, test_accuracy = model.evaluate(X, Y)\n",
        "\n",
        "print(f\"Train Loss: {train_loss}, Train Accuracy: {train_accuracy}\")\n",
        "print(f\"Test Loss: {test_loss}, Test Accuracy: {test_accuracy}\")"
      ],
      "metadata": {
        "colab": {
          "base_uri": "https://localhost:8080/"
        },
        "id": "-mWoiKHC8g-w",
        "outputId": "23da8060-311e-4eb8-c573-cf3d6e8c136d"
      },
      "execution_count": 37,
      "outputs": [
        {
          "output_type": "stream",
          "name": "stdout",
          "text": [
            "1875/1875 [==============================] - 3s 2ms/step - loss: 0.0312 - accuracy: 0.9913\n",
            "313/313 [==============================] - 1s 2ms/step - loss: 0.0720 - accuracy: 0.9794\n",
            "Train Loss: 0.031220102682709694, Train Accuracy: 0.9912999868392944\n",
            "Test Loss: 0.07203845679759979, Test Accuracy: 0.9793999791145325\n"
          ]
        }
      ]
    },
    {
      "cell_type": "code",
      "source": [
        "y_prediction = model.predict(X)\n",
        "y_prediction_classes = np.argmax(y_prediction, axis=1)\n",
        "\n",
        "print(f\"What Softmax predicted: {y_prediction}\")\n",
        "\n",
        "print(f\"What Softmax actually means: {y_prediction_classes}\")"
      ],
      "metadata": {
        "colab": {
          "base_uri": "https://localhost:8080/"
        },
        "id": "EO4xuuRD8hBM",
        "outputId": "2db696c6-d4b5-48b9-a4b9-f0bc82e1d3b1"
      },
      "execution_count": 38,
      "outputs": [
        {
          "output_type": "stream",
          "name": "stdout",
          "text": [
            "313/313 [==============================] - 1s 2ms/step\n",
            "What Softmax predicted: [[1.1492632e-06 5.0206683e-07 1.7422215e-05 ... 9.9970078e-01\n",
            "  6.7570403e-07 5.3562555e-05]\n",
            " [1.6120912e-07 1.0104742e-05 9.9997944e-01 ... 6.3909283e-08\n",
            "  1.3182712e-07 6.7974043e-11]\n",
            " [2.7116468e-05 9.9496210e-01 3.9446121e-04 ... 3.6225647e-03\n",
            "  3.3099455e-04 5.3582218e-05]\n",
            " ...\n",
            " [2.0204722e-11 4.6329811e-09 8.0892834e-11 ... 2.2390893e-06\n",
            "  4.8333502e-09 1.4679463e-06]\n",
            " [1.5646638e-07 6.5317982e-09 6.7626040e-08 ... 2.3884456e-07\n",
            "  1.1627102e-04 8.2127061e-09]\n",
            " [2.1603514e-08 7.8352646e-13 1.9391682e-09 ... 1.7536039e-13\n",
            "  6.7235888e-08 6.7225362e-12]]\n",
            "What Softmax actually means: [7 2 1 ... 4 5 6]\n"
          ]
        }
      ]
    },
    {
      "cell_type": "code",
      "source": [
        "rand_num = np.random.choice(len(X))\n",
        "X_sample = X[rand_num]\n",
        "\n",
        "y_true = np.argmax(Y, axis=1)\n",
        "y_sample_true = y_true[rand_num]\n",
        "\n",
        "y_sample_prediction_class = y_prediction_classes[rand_num]"
      ],
      "metadata": {
        "id": "okwlS1fN8hCn"
      },
      "execution_count": 39,
      "outputs": []
    },
    {
      "cell_type": "code",
      "source": [
        "plt.title(f\"Predicted: {y_sample_prediction_class}, True:{y_sample_true}\")\n",
        "plt.imshow(X_sample.reshape(28, 28), cmap=\"gray\");"
      ],
      "metadata": {
        "id": "yWdvMq-V8hEw",
        "colab": {
          "base_uri": "https://localhost:8080/",
          "height": 452
        },
        "outputId": "b041cfb8-9b01-4d3b-eb11-e599eaeb8014"
      },
      "execution_count": 40,
      "outputs": [
        {
          "output_type": "display_data",
          "data": {
            "text/plain": [
              "<Figure size 640x480 with 1 Axes>"
            ],
            "image/png": "[encoded data removed]"
          },
          "metadata": {}
        }
      ]
    },
    {
      "cell_type": "code",
      "source": [
        "confusion_mtx = confusion_matrix(y_true, y_prediction_classes)\n",
        "print(confusion_mtx)"
      ],
      "metadata": {
        "id": "HwxAlWP48hHD",
        "colab": {
          "base_uri": "https://localhost:8080/"
        },
        "outputId": "d33294fc-0b00-4dc8-9224-0083ec32d943"
      },
      "execution_count": 41,
      "outputs": [
        {
          "output_type": "stream",
          "name": "stdout",
          "text": [
            "[[ 970    0    1    2    1    1    2    1    2    0]\n",
            " [   0 1121    4    0    0    0    4    1    5    0]\n",
            " [   8    0 1008    0    1    0    4    3    8    0]\n",
            " [   0    0    4  994    0    2    0    3    6    1]\n",
            " [   1    0    4    0  962    0    4    2    1    8]\n",
            " [   2    0    0    7    2  860    9    0    8    4]\n",
            " [   2    3    0    0    2    2  946    0    3    0]\n",
            " [   2    2    8    6    0    0    0 1002    1    7]\n",
            " [   4    0    3    4    0    2    2    2  954    3]\n",
            " [   4    3    1    6    8    3    0    3    4  977]]\n"
          ]
        }
      ]
    },
    {
      "cell_type": "code",
      "source": [],
      "metadata": {
        "id": "PkcTyJrZ-Y8W"
      },
      "execution_count": 41,
      "outputs": []
    }
  ]
}