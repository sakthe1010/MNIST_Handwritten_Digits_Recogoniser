{
  "nbformat": 4,
  "nbformat_minor": 0,
  "metadata": {
    "colab": {
      "provenance": []
    },
    "kernelspec": {
      "name": "python3",
      "display_name": "Python 3"
    },
    "language_info": {
      "name": "python"
    }
  },
  "cells": [
    {
      "cell_type": "code",
      "execution_count": 2,
      "metadata": {
        "id": "eEDkptfKdg2l"
      },
      "outputs": [],
      "source": [
        "import numpy as np\n",
        "import matplotlib.pyplot as plt\n",
        "import keras\n",
        "from keras.models import Sequential\n",
        "from keras.layers import Dense, Dropout\n",
        "from keras.utils import np_utils\n",
        "from sklearn.metrics import confusion_matrix\n",
      ]
    },
    {
      "cell_type": "code",
      "source": [
        "from keras.datasets import mnist\n",
        "(x,y), (X,Y) = mnist.load_data()"
      ],
      "metadata": {
        "id": "z2VUC8fmo6ME",
        "outputId": "95164de4-5e57-4962-e8d0-58d35c54071e",
        "colab": {
          "base_uri": "https://localhost:8080/"
        }
      },
      "execution_count": 3,
      "outputs": [
        {
          "output_type": "stream",
          "name": "stdout",
          "text": [
            "Downloading data from https://storage.googleapis.com/tensorflow/tf-keras-datasets/mnist.npz\n",
            "11490434/11490434 [==============================] - 2s 0us/step\n"
          ]
        }
      ]
    },
    {
      "cell_type": "code",
      "source": [
        "print(x.shape,y.shape)\n",
        "print(X.shape,Y.shape)"
      ],
      "metadata": {
        "colab": {
          "base_uri": "https://localhost:8080/"
        },
        "id": "qZxDj73Fo6bV",
        "outputId": "3236c79a-3670-4f06-9e04-235aa74cf73e"
      },
      "execution_count": 4,
      "outputs": [
        {
          "output_type": "stream",
          "name": "stdout",
          "text": [
            "(60000, 28, 28) (60000,)\n",
            "(10000, 28, 28) (10000,)\n"
          ]
        }
      ]
    },
    {
      "cell_type": "code",
      "source": [
        "x[0]"
      ],
      "metadata": {
        "colab": {
          "base_uri": "https://localhost:8080/"
        },
        "id": "GG56G_Gro6d3",
        "outputId": "a19bc689-f275-4828-eca7-90976c074e82"
      },
      "execution_count": 5,
      "outputs": [
        {
          "output_type": "execute_result",
          "data": {
            "text/plain": [
              "array([[  0,   0,   0,   0,   0,   0,   0,   0,   0,   0,   0,   0,   0,\n",
              "          0,   0,   0,   0,   0,   0,   0,   0,   0,   0,   0,   0,   0,\n",
              "          0,   0],\n",
              "       [  0,   0,   0,   0,   0,   0,   0,   0,   0,   0,   0,   0,   0,\n",
              "          0,   0,   0,   0,   0,   0,   0,   0,   0,   0,   0,   0,   0,\n",
              "          0,   0],\n",
              "       [  0,   0,   0,   0,   0,   0,   0,   0,   0,   0,   0,   0,   0,\n",
              "          0,   0,   0,   0,   0,   0,   0,   0,   0,   0,   0,   0,   0,\n",
              "          0,   0],\n",
              "       [  0,   0,   0,   0,   0,   0,   0,   0,   0,   0,   0,   0,   0,\n",
              "          0,   0,   0,   0,   0,   0,   0,   0,   0,   0,   0,   0,   0,\n",
              "          0,   0],\n",
              "       [  0,   0,   0,   0,   0,   0,   0,   0,   0,   0,   0,   0,   0,\n",
              "          0,   0,   0,   0,   0,   0,   0,   0,   0,   0,   0,   0,   0,\n",
              "          0,   0],\n",
              "       [  0,   0,   0,   0,   0,   0,   0,   0,   0,   0,   0,   0,   3,\n",
              "         18,  18,  18, 126, 136, 175,  26, 166, 255, 247, 127,   0,   0,\n",
              "          0,   0],\n",
              "       [  0,   0,   0,   0,   0,   0,   0,   0,  30,  36,  94, 154, 170,\n",
              "        253, 253, 253, 253, 253, 225, 172, 253, 242, 195,  64,   0,   0,\n",
              "          0,   0],\n",
              "       [  0,   0,   0,   0,   0,   0,   0,  49, 238, 253, 253, 253, 253,\n",
              "        253, 253, 253, 253, 251,  93,  82,  82,  56,  39,   0,   0,   0,\n",
              "          0,   0],\n",
              "       [  0,   0,   0,   0,   0,   0,   0,  18, 219, 253, 253, 253, 253,\n",
              "        253, 198, 182, 247, 241,   0,   0,   0,   0,   0,   0,   0,   0,\n",
              "          0,   0],\n",
              "       [  0,   0,   0,   0,   0,   0,   0,   0,  80, 156, 107, 253, 253,\n",
              "        205,  11,   0,  43, 154,   0,   0,   0,   0,   0,   0,   0,   0,\n",
              "          0,   0],\n",
              "       [  0,   0,   0,   0,   0,   0,   0,   0,   0,  14,   1, 154, 253,\n",
              "         90,   0,   0,   0,   0,   0,   0,   0,   0,   0,   0,   0,   0,\n",
              "          0,   0],\n",
              "       [  0,   0,   0,   0,   0,   0,   0,   0,   0,   0,   0, 139, 253,\n",
              "        190,   2,   0,   0,   0,   0,   0,   0,   0,   0,   0,   0,   0,\n",
              "          0,   0],\n",
              "       [  0,   0,   0,   0,   0,   0,   0,   0,   0,   0,   0,  11, 190,\n",
              "        253,  70,   0,   0,   0,   0,   0,   0,   0,   0,   0,   0,   0,\n",
              "          0,   0],\n",
              "       [  0,   0,   0,   0,   0,   0,   0,   0,   0,   0,   0,   0,  35,\n",
              "        241, 225, 160, 108,   1,   0,   0,   0,   0,   0,   0,   0,   0,\n",
              "          0,   0],\n",
              "       [  0,   0,   0,   0,   0,   0,   0,   0,   0,   0,   0,   0,   0,\n",
              "         81, 240, 253, 253, 119,  25,   0,   0,   0,   0,   0,   0,   0,\n",
              "          0,   0],\n",
              "       [  0,   0,   0,   0,   0,   0,   0,   0,   0,   0,   0,   0,   0,\n",
              "          0,  45, 186, 253, 253, 150,  27,   0,   0,   0,   0,   0,   0,\n",
              "          0,   0],\n",
              "       [  0,   0,   0,   0,   0,   0,   0,   0,   0,   0,   0,   0,   0,\n",
              "          0,   0,  16,  93, 252, 253, 187,   0,   0,   0,   0,   0,   0,\n",
              "          0,   0],\n",
              "       [  0,   0,   0,   0,   0,   0,   0,   0,   0,   0,   0,   0,   0,\n",
              "          0,   0,   0,   0, 249, 253, 249,  64,   0,   0,   0,   0,   0,\n",
              "          0,   0],\n",
              "       [  0,   0,   0,   0,   0,   0,   0,   0,   0,   0,   0,   0,   0,\n",
              "          0,  46, 130, 183, 253, 253, 207,   2,   0,   0,   0,   0,   0,\n",
              "          0,   0],\n",
              "       [  0,   0,   0,   0,   0,   0,   0,   0,   0,   0,   0,   0,  39,\n",
              "        148, 229, 253, 253, 253, 250, 182,   0,   0,   0,   0,   0,   0,\n",
              "          0,   0],\n",
              "       [  0,   0,   0,   0,   0,   0,   0,   0,   0,   0,  24, 114, 221,\n",
              "        253, 253, 253, 253, 201,  78,   0,   0,   0,   0,   0,   0,   0,\n",
              "          0,   0],\n",
              "       [  0,   0,   0,   0,   0,   0,   0,   0,  23,  66, 213, 253, 253,\n",
              "        253, 253, 198,  81,   2,   0,   0,   0,   0,   0,   0,   0,   0,\n",
              "          0,   0],\n",
              "       [  0,   0,   0,   0,   0,   0,  18, 171, 219, 253, 253, 253, 253,\n",
              "        195,  80,   9,   0,   0,   0,   0,   0,   0,   0,   0,   0,   0,\n",
              "          0,   0],\n",
              "       [  0,   0,   0,   0,  55, 172, 226, 253, 253, 253, 253, 244, 133,\n",
              "         11,   0,   0,   0,   0,   0,   0,   0,   0,   0,   0,   0,   0,\n",
              "          0,   0],\n",
              "       [  0,   0,   0,   0, 136, 253, 253, 253, 212, 135, 132,  16,   0,\n",
              "          0,   0,   0,   0,   0,   0,   0,   0,   0,   0,   0,   0,   0,\n",
              "          0,   0],\n",
              "       [  0,   0,   0,   0,   0,   0,   0,   0,   0,   0,   0,   0,   0,\n",
              "          0,   0,   0,   0,   0,   0,   0,   0,   0,   0,   0,   0,   0,\n",
              "          0,   0],\n",
              "       [  0,   0,   0,   0,   0,   0,   0,   0,   0,   0,   0,   0,   0,\n",
              "          0,   0,   0,   0,   0,   0,   0,   0,   0,   0,   0,   0,   0,\n",
              "          0,   0],\n",
              "       [  0,   0,   0,   0,   0,   0,   0,   0,   0,   0,   0,   0,   0,\n",
              "          0,   0,   0,   0,   0,   0,   0,   0,   0,   0,   0,   0,   0,\n",
              "          0,   0]], dtype=uint8)"
            ]
          },
          "metadata": {},
          "execution_count": 5
        }
      ]
    },
    {
      "cell_type": "code",
      "source": [
        "random_nr = np.random.randint(0, 60000)"
      ],
      "metadata": {
        "id": "bwOMZuTgo6gJ"
      },
      "execution_count": 6,
      "outputs": []
    },
    {
      "cell_type": "code",
      "source": [
        "plt.imshow(x[random_nr], cmap=\"gray\");"
      ],
      "metadata": {
        "colab": {
          "base_uri": "https://localhost:8080/",
          "height": 430
        },
        "id": "vAlGWCYYo6iL",
        "outputId": "65ade06e-1052-4d6b-a81f-3409441a1ca9"
      },
      "execution_count": 7,
      "outputs": [
        {
          "output_type": "display_data",
          "data": {
            "text/plain": [
              "<Figure size 640x480 with 1 Axes>"
            ],
            "image/png": "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\n"
          },
          "metadata": {}
        }
      ]
    },
    {
      "cell_type": "code",
      "source": [
        "num_classes = 10\n",
        "fig, ax = plt.subplots(1, num_classes, figsize=(20,20))\n",
        "for i in range(num_classes):\n",
        "  sample = x[y == i][0]\n",
        "  ax[i].imshow(sample, cmap=\"gray\")\n",
        "  ax[i].set_title(f\"Label:{i}\")"
      ],
      "metadata": {
        "colab": {
          "base_uri": "https://localhost:8080/",
          "height": 214
        },
        "id": "Rd393O5Ao6kH",
        "outputId": "cbdf1789-95e6-44f0-ae32-0257096580d0"
      },
      "execution_count": 8,
      "outputs": [
        {
          "output_type": "display_data",
          "data": {
            "text/plain": [
              "<Figure size 2000x2000 with 10 Axes>"
            ],
            "image/png": "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\n"
          },
          "metadata": {}
        }
      ]
    },
    {
      "cell_type": "code",
      "source": [
        "y = keras.utils.np_utils.to_categorical(y, num_classes)\n",
        "Y = keras.utils.np_utils.to_categorical(Y, num_classes)"
      ],
      "metadata": {
        "id": "Wqg5eXOfpOR6"
      },
      "execution_count": 9,
      "outputs": []
    },
    {
      "cell_type": "code",
      "source": [
        "for i in range(10):\n",
        "  print(y[i])"
      ],
      "metadata": {
        "colab": {
          "base_uri": "https://localhost:8080/"
        },
        "id": "B0oFapExpOUC",
        "outputId": "f640800b-d56d-400e-c928-ace732930ced"
      },
      "execution_count": 10,
      "outputs": [
        {
          "output_type": "stream",
          "name": "stdout",
          "text": [
            "[0. 0. 0. 0. 0. 1. 0. 0. 0. 0.]\n",
            "[1. 0. 0. 0. 0. 0. 0. 0. 0. 0.]\n",
            "[0. 0. 0. 0. 1. 0. 0. 0. 0. 0.]\n",
            "[0. 1. 0. 0. 0. 0. 0. 0. 0. 0.]\n",
            "[0. 0. 0. 0. 0. 0. 0. 0. 0. 1.]\n",
            "[0. 0. 1. 0. 0. 0. 0. 0. 0. 0.]\n",
            "[0. 1. 0. 0. 0. 0. 0. 0. 0. 0.]\n",
            "[0. 0. 0. 1. 0. 0. 0. 0. 0. 0.]\n",
            "[0. 1. 0. 0. 0. 0. 0. 0. 0. 0.]\n",
            "[0. 0. 0. 0. 1. 0. 0. 0. 0. 0.]\n"
          ]
        }
      ]
    },
    {
      "cell_type": "code",
      "source": [
        "x = x/255.0\n",
        "X = X/255.0"
      ],
      "metadata": {
        "id": "MSQWqw7ZpOV9"
      },
      "execution_count": 11,
      "outputs": []
    },
    {
      "cell_type": "code",
      "source": [
        "x.shape"
      ],
      "metadata": {
        "colab": {
          "base_uri": "https://localhost:8080/"
        },
        "id": "EKTdwszopOX4",
        "outputId": "50044a67-b096-4e13-f555-c6b65046b0a9"
      },
      "execution_count": 12,
      "outputs": [
        {
          "output_type": "execute_result",
          "data": {
            "text/plain": [
              "(60000, 28, 28)"
            ]
          },
          "metadata": {},
          "execution_count": 12
        }
      ]
    },
    {
      "cell_type": "code",
      "source": [
        "x = x.reshape(x.shape[0], -1)\n",
        "X = X.reshape(X.shape[0], -1)"
      ],
      "metadata": {
        "id": "xOA2SV8XpOaN"
      },
      "execution_count": 13,
      "outputs": []
    },
    {
      "cell_type": "code",
      "source": [
        "x.shape"
      ],
      "metadata": {
        "colab": {
          "base_uri": "https://localhost:8080/"
        },
        "id": "g_Wc6ejIpObx",
        "outputId": "74e22579-7035-43f2-db43-a48f8d066c4c"
      },
      "execution_count": 14,
      "outputs": [
        {
          "output_type": "execute_result",
          "data": {
            "text/plain": [
              "(60000, 784)"
            ]
          },
          "metadata": {},
          "execution_count": 14
        }
      ]
    },
    {
      "cell_type": "code",
      "source": [
        "model = Sequential()\n",
        "\n",
        "model.add(Dense(units=128, input_shape=(784, ), activation=\"relu\"))\n",
        "model.add(Dense(units=128, activation=\"relu\"))\n",
        "model.add(Dropout(0.25))\n",
        "model.add(Dense(units=10, activation=\"softmax\"))\n",
        "\n",
        "model.compile(loss=\"categorical_crossentropy\", optimizer=\"adam\", metrics=\"accuracy\")\n",
        "model.summary()"
      ],
      "metadata": {
        "colab": {
          "base_uri": "https://localhost:8080/"
        },
        "id": "JQZbAu5UpOel",
        "outputId": "f988ccdc-d17e-47d7-bfae-9b7a5d7c8180"
      },
      "execution_count": 15,
      "outputs": [
        {
          "output_type": "stream",
          "name": "stdout",
          "text": [
            "Model: \"sequential\"\n",
            "_________________________________________________________________\n",
            " Layer (type)                Output Shape              Param #   \n",
            "=================================================================\n",
            " dense (Dense)               (None, 128)               100480    \n",
            "                                                                 \n",
            " dense_1 (Dense)             (None, 128)               16512     \n",
            "                                                                 \n",
            " dropout (Dropout)           (None, 128)               0         \n",
            "                                                                 \n",
            " dense_2 (Dense)             (None, 10)                1290      \n",
            "                                                                 \n",
            "=================================================================\n",
            "Total params: 118,282\n",
            "Trainable params: 118,282\n",
            "Non-trainable params: 0\n",
            "_________________________________________________________________\n"
          ]
        }
      ]
    },
    {
      "cell_type": "code",
      "source": [
        "BATCH_SIZE = 512\n",
        "epochs = 11\n",
        "model.fit(x=x, y=y, batch_size = BATCH_SIZE, epochs = epochs )"
      ],
      "metadata": {
        "colab": {
          "base_uri": "https://localhost:8080/"
        },
        "id": "C001Zj2uo6l8",
        "outputId": "c111d93a-897e-4ca6-a69d-21b04babfe63"
      },
      "execution_count": 16,
      "outputs": [
        {
          "output_type": "stream",
          "name": "stdout",
          "text": [
            "Epoch 1/11\n",
            "118/118 [==============================] - 5s 26ms/step - loss: 0.5949 - accuracy: 0.8270\n",
            "Epoch 2/11\n",
            "118/118 [==============================] - 3s 24ms/step - loss: 0.2281 - accuracy: 0.9341\n",
            "Epoch 3/11\n",
            "118/118 [==============================] - 3s 24ms/step - loss: 0.1698 - accuracy: 0.9499\n",
            "Epoch 4/11\n",
            "118/118 [==============================] - 3s 24ms/step - loss: 0.1342 - accuracy: 0.9608\n",
            "Epoch 5/11\n",
            "118/118 [==============================] - 3s 23ms/step - loss: 0.1115 - accuracy: 0.9667\n",
            "Epoch 6/11\n",
            "118/118 [==============================] - 3s 28ms/step - loss: 0.0947 - accuracy: 0.9715\n",
            "Epoch 7/11\n",
            "118/118 [==============================] - 3s 22ms/step - loss: 0.0818 - accuracy: 0.9758\n",
            "Epoch 8/11\n",
            "118/118 [==============================] - 3s 23ms/step - loss: 0.0709 - accuracy: 0.9789\n",
            "Epoch 9/11\n",
            "118/118 [==============================] - 2s 16ms/step - loss: 0.0627 - accuracy: 0.9812\n",
            "Epoch 10/11\n",
            "118/118 [==============================] - 1s 11ms/step - loss: 0.0549 - accuracy: 0.9829\n",
            "Epoch 11/11\n",
            "118/118 [==============================] - 1s 12ms/step - loss: 0.0485 - accuracy: 0.9850\n"
          ]
        },
        {
          "output_type": "execute_result",
          "data": {
            "text/plain": [
              "<keras.callbacks.History at 0x7f59ac76e290>"
            ]
          },
          "metadata": {},
          "execution_count": 16
        }
      ]
    },
    {
      "cell_type": "code",
      "source": [
        "train_loss, train_accuracy = model.evaluate(x, y)\n",
        "test_loss, test_accuracy = model.evaluate(X, Y)\n",
        "\n",
        "print(f\"Train Loss: {train_loss}, Train Accuracy: {train_accuracy}\")\n",
        "print(f\"Test Loss: {test_loss}, Test Accuracy: {test_accuracy}\")"
      ],
      "metadata": {
        "colab": {
          "base_uri": "https://localhost:8080/"
        },
        "id": "-mWoiKHC8g-w",
        "outputId": "30b1d2c4-9d9d-4d47-d68b-9130654a8ed6"
      },
      "execution_count": 17,
      "outputs": [
        {
          "output_type": "stream",
          "name": "stdout",
          "text": [
            "1875/1875 [==============================] - 4s 2ms/step - loss: 0.0308 - accuracy: 0.9919\n",
            "313/313 [==============================] - 1s 2ms/step - loss: 0.0737 - accuracy: 0.9760\n",
            "Train Loss: 0.03075242228806019, Train Accuracy: 0.9918833374977112\n",
            "Test Loss: 0.07365092635154724, Test Accuracy: 0.9760000109672546\n"
          ]
        }
      ]
    },
    {
      "cell_type": "code",
      "source": [
        "y_prediction = model.predict(X)\n",
        "y_prediction_classes = np.argmax(y_prediction, axis=1)\n",
        "\n",
        "print(f\"What Softmax predicted: {y_prediction}\")\n",
        "\n",
        "print(f\"What Softmax actually means: {y_prediction_classes}\")"
      ],
      "metadata": {
        "colab": {
          "base_uri": "https://localhost:8080/"
        },
        "id": "EO4xuuRD8hBM",
        "outputId": "675b8e04-fccd-474e-be5f-13ca5e99dac3"
      },
      "execution_count": 18,
      "outputs": [
        {
          "output_type": "stream",
          "name": "stdout",
          "text": [
            "313/313 [==============================] - 1s 2ms/step\n",
            "What Softmax predicted: [[1.8146146e-06 1.5756176e-06 4.5329132e-05 ... 9.9979544e-01\n",
            "  2.3828425e-06 5.1201550e-06]\n",
            " [1.7104529e-07 1.9673804e-04 9.9979544e-01 ... 5.2574002e-08\n",
            "  1.0286922e-06 2.5712041e-10]\n",
            " [3.8935950e-06 9.9727523e-01 9.2720307e-05 ... 1.0906692e-03\n",
            "  5.3601025e-04 3.1609678e-05]\n",
            " ...\n",
            " [5.3924981e-10 4.6467269e-10 5.4671684e-10 ... 1.0755663e-06\n",
            "  6.5755506e-07 1.9941966e-05]\n",
            " [8.4507573e-10 7.0215089e-10 4.0861592e-11 ... 4.2517076e-10\n",
            "  1.2224658e-05 1.8128089e-09]\n",
            " [7.0478862e-08 1.1608413e-11 1.9599515e-08 ... 4.5527596e-11\n",
            "  7.1996971e-11 7.9343483e-11]]\n",
            "What Softmax actually means: [7 2 1 ... 4 5 6]\n"
          ]
        }
      ]
    },
    {
      "cell_type": "code",
      "source": [
        "rand_num = np.random.choice(len(X))\n",
        "X_sample = X[rand_num]\n",
        "\n",
        "y_true = np.argmax(Y, axis=1)\n",
        "y_sample_true = y_true[rand_num]\n",
        "\n",
        "y_sample_prediction_class = y_prediction_classes[rand_num]"
      ],
      "metadata": {
        "id": "okwlS1fN8hCn"
      },
      "execution_count": 19,
      "outputs": []
    },
    {
      "cell_type": "code",
      "source": [
        "plt.title(f\"Predicted: {y_sample_prediction_class}, True:{y_sample_true}\")\n",
        "plt.imshow(X_sample.reshape(28, 28), cmap=\"gray\");"
      ],
      "metadata": {
        "id": "yWdvMq-V8hEw",
        "outputId": "340e569d-e15e-444c-86ca-298be1ce4773",
        "colab": {
          "base_uri": "https://localhost:8080/",
          "height": 452
        }
      },
      "execution_count": 20,
      "outputs": [
        {
          "output_type": "display_data",
          "data": {
            "text/plain": [
              "<Figure size 640x480 with 1 Axes>"
            ],
            "image/png": "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\n"
          },
          "metadata": {}
        }
      ]
    },
    {
      "cell_type": "code",
      "source": [
        "confusion_mtx = confusion_matrix(y_true, y_prediction_classes)\n",
        "print(confusion_mtx)"
      ],
      "metadata": {
        "id": "HwxAlWP48hHD",
        "outputId": "6b309ee0-84dc-4653-c80a-79e0d8154fba",
        "colab": {
          "base_uri": "https://localhost:8080/"
        }
      },
      "execution_count": 21,
      "outputs": [
        {
          "output_type": "stream",
          "name": "stdout",
          "text": [
            "[[ 970    0    1    0    1    1    3    1    2    1]\n",
            " [   0 1125    2    0    0    0    2    0    6    0]\n",
            " [   7    1 1007    1    1    0    2    5    7    1]\n",
            " [   0    0    7  981    0    6    1    6    8    1]\n",
            " [   2    0    5    0  962    0    4    1    1    7]\n",
            " [   2    0    0    8    1  871    5    0    4    1]\n",
            " [   8    2    1    0    6    3  934    0    4    0]\n",
            " [   1    6    7    4    1    0    0  996    3   10]\n",
            " [   8    0    2    5    4    6    2    3  941    3]\n",
            " [   4    4    0    5    7    5    2    5    4  973]]\n"
          ]
        }
      ]
    },
    {
      "cell_type": "code",
      "source": [],
      "metadata": {
        "id": "PkcTyJrZ-Y8W"
      },
      "execution_count": 21,
      "outputs": []
    }
  ]
}
